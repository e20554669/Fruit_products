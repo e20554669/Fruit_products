{
 "cells": [
  {
   "cell_type": "code",
   "execution_count": 5,
   "metadata": {},
   "outputs": [
    {
     "name": "stdout",
     "output_type": "stream",
     "text": [
      "共 10 種蔬果，準備下載...\n"
     ]
    }
   ],
   "source": [
    "# 套件與初始化\n",
    "import pandas as pd\n",
    "import requests\n",
    "import urllib.parse\n",
    "import os\n",
    "import warnings\n",
    "warnings.filterwarnings('ignore')\n",
    "\n",
    "UNIT_ID_LIST = {113: \"蔬菜\", 135: \"果品\"}\n",
    "YEAR_CUTOFF = 2020 # 起始年份\n",
    "# 以下填入需要查詢的水果(不支援模糊查詢)\n",
    "VEGETABLES = ['蘋果', '桃子', '葡萄', '香蕉', '芒果', '木瓜', '鳳梨', '草莓', '藍莓', '覆盆子']\n",
    "\n",
    "os.makedirs('蔬果資料', exist_ok=True)\n",
    "print(f\"共 {len(VEGETABLES)} 種蔬果，準備下載...\")"
   ]
  },
  {
   "cell_type": "code",
   "execution_count": 6,
   "metadata": {},
   "outputs": [
    {
     "name": "stdout",
     "output_type": "stream",
     "text": [
      "⚠️ 無資料: 蘋果\n",
      "✅ 已儲存: 蔬果資料/2020~2024年蘋果.csv (110 筆)\n",
      "⚠️ 無資料: 桃子\n",
      "⚠️ 無資料: 桃子\n",
      "⚠️ 無資料: 葡萄\n",
      "✅ 已儲存: 蔬果資料/2020~2024年葡萄.csv (110 筆)\n",
      "⚠️ 無資料: 香蕉\n",
      "✅ 已儲存: 蔬果資料/2020~2024年香蕉.csv (110 筆)\n",
      "⚠️ 無資料: 芒果\n",
      "✅ 已儲存: 蔬果資料/2020~2024年芒果.csv (110 筆)\n",
      "⚠️ 無資料: 木瓜\n",
      "✅ 已儲存: 蔬果資料/2020~2024年木瓜.csv (110 筆)\n",
      "⚠️ 無資料: 鳳梨\n",
      "✅ 已儲存: 蔬果資料/2020~2024年鳳梨.csv (110 筆)\n",
      "✅ 已儲存: 蔬果資料/2020~2024年草莓.csv (110 筆)\n",
      "⚠️ 無資料: 草莓\n",
      "⚠️ 無資料: 藍莓\n",
      "⚠️ 無資料: 藍莓\n",
      "⚠️ 無資料: 覆盆子\n",
      "⚠️ 無資料: 覆盆子\n"
     ]
    }
   ],
   "source": [
    "import urllib3\n",
    "import requests\n",
    "import pandas as pd\n",
    "import urllib.parse\n",
    "\n",
    "# 停用 SSL 警告\n",
    "urllib3.disable_warnings(urllib3.exceptions.InsecureRequestWarning)\n",
    "\n",
    "# 建立一個空的Dataframe，來存放所有資料\n",
    "df_sum = pd.DataFrame()\n",
    "\n",
    "# 抓取並儲存每一種蔬果的資料\n",
    "for name in VEGETABLES:\n",
    "    try:\n",
    "        for id, kind in UNIT_ID_LIST.items():\n",
    "            filter_str = f\"年度 gt {YEAR_CUTOFF} and {kind}類別 like {name}\"\n",
    "            encoded = urllib.parse.quote(filter_str, safe='')\n",
    "       \n",
    "            url = f\"https://data.moa.gov.tw/Service/OpenData/DataFileService.aspx?UnitId={id}&$top=1000&$skip=0&$filter={encoded}\"\n",
    "        \n",
    "            # 加入 verify=False 停用 SSL 驗證\n",
    "            r = requests.get(url, timeout=30, verify=False)\n",
    "            data = r.json()\n",
    "            \n",
    "            if data:\n",
    "                df = pd.DataFrame(data)\n",
    "                fname = f\"蔬果資料/{YEAR_CUTOFF}~2024年{name}.csv\"\n",
    "                if kind == \"蔬菜\":\n",
    "                    df = df.rename(columns={\"種植面積\":\"種植面積_公頃\", \"收穫面積\":\"收穫面積_公頃\"}) # 針對蔬菜欄位的名稱要做修改\n",
    "                df = df[[\"年度\", \"地區別\", f\"{kind}類別\", \"種植面積_公頃\", \"收穫面積_公頃\"]]\n",
    "                df = df.rename(columns={f\"{kind}類別\": \"蔬果類別\"}) # 統一欄位名稱\n",
    "                df = df[df[\"蔬果類別\"] == name] # 只篩選需要的名稱，避免不同水果被抓進來(ex:要抓葡萄，但葡萄柚也被抓進來)\n",
    "                df_sum = pd.concat([df_sum, df]) # 合併資料表進入df_sum\n",
    "                df.to_csv(fname, index=False, encoding='utf-8-sig')\n",
    "                print(f\"✅ 已儲存: {fname} ({len(df)} 筆)\")\n",
    "            else:\n",
    "                print(f\"⚠️ 無資料: {name}\")\n",
    "    except Exception as e:\n",
    "        print(f\"❌ 發生錯誤：{name} → {e}\")\n",
    "\n",
    "if len(df_sum.index) > 0:\n",
    "    df_sum = df_sum.sort_values(by=['年度', '蔬果類別', '地區別'], ascending=False)\n",
    "    df_sum.to_csv(f\"蔬果資料/{YEAR_CUTOFF}~2024年★彙整★.csv\", index=False, encoding='utf-8-sig')"
   ]
  }
 ],
 "metadata": {
  "kernelspec": {
   "display_name": "Python 3",
   "language": "python",
   "name": "python3"
  },
  "language_info": {
   "codemirror_mode": {
    "name": "ipython",
    "version": 3
   },
   "file_extension": ".py",
   "mimetype": "text/x-python",
   "name": "python",
   "nbconvert_exporter": "python",
   "pygments_lexer": "ipython3",
   "version": "3.13.7"
  }
 },
 "nbformat": 4,
 "nbformat_minor": 2
}
